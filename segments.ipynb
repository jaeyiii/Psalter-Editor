{
 "cells": [
  {
   "cell_type": "code",
   "execution_count": 3,
   "metadata": {},
   "outputs": [],
   "source": [
    "from pydub import AudioSegment\n",
    "\n"
   ]
  },
  {
   "cell_type": "code",
   "execution_count": 4,
   "metadata": {},
   "outputs": [
    {
     "name": "stdout",
     "output_type": "stream",
     "text": [
      "Absolute path: /Users/ejgalang/Desktop/ej_file/SoundFile/13-Track-13.mp3\n"
     ]
    }
   ],
   "source": [
    "import os\n",
    "\n",
    "# Specify the relative or full path to your file\n",
    "relative_path = \"13-Track-12.mp3\"  # Adjust as needed\n",
    "\n",
    "# Get the absolute path\n",
    "absolute_path = os.path.abspath(relative_path)\n",
    "\n",
    "print(\"Absolute path:\", absolute_path)"
   ]
  },
  {
   "cell_type": "code",
   "execution_count": 5,
   "metadata": {},
   "outputs": [],
   "source": [
    "ffmpeg_path = \"/opt/homebrew/bin/ffmpeg\"  # Update the path if necessary\n",
    "\n",
    "# Set the path to the FFmpeg executable\n",
    "AudioSegment.converter = ffmpeg_path\n",
    "\n",
    "\n"
   ]
  },
  {
   "cell_type": "code",
   "execution_count": 39,
   "metadata": {},
   "outputs": [],
   "source": [
    "# Now you can load the audio file\n",
    "audio = AudioSegment.from_file(\"/Users/ejgalang/Downloads/13-Track-13-2.mp3\", format=\"mp3\")\n",
    "\n"
   ]
  },
  {
   "cell_type": "code",
   "execution_count": 10,
   "metadata": {},
   "outputs": [
    {
     "name": "stdout",
     "output_type": "stream",
     "text": [
      "Audio processing complete.\n"
     ]
    }
   ],
   "source": [
    "eq_filter = audio + 1 # Adjust the gain value as needed\n",
    "\n",
    "# Export the processed audio\n",
    "eq_filter.export(\"output_audio.mp3\", format=\"mp3\")\n",
    "\n",
    "print(\"Audio processing complete.\")"
   ]
  },
  {
   "cell_type": "code",
   "execution_count": 9,
   "metadata": {},
   "outputs": [],
   "source": [
    "from pydub.playback import play"
   ]
  },
  {
   "cell_type": "code",
   "execution_count": 17,
   "metadata": {},
   "outputs": [
    {
     "name": "stdout",
     "output_type": "stream",
     "text": [
      "Audio processing complete. Processed audio saved to output_audio.mp3.\n"
     ]
    }
   ],
   "source": [
    "cutoff_frequency = 3200  # Adjust the cutoff frequency as needed\n",
    "high_pass_filter = audio.low_pass_filter(cutoff_frequency)\n",
    "\n",
    "# Export the processed audio to the output file\n",
    "high_pass_filter.export(\"output_audio1.mp3\", format=\"mp3\")\n",
    "\n",
    "print(f\"Audio processing complete. Processed audio saved to output_audio.mp3.\")"
   ]
  },
  {
   "cell_type": "code",
   "execution_count": 18,
   "metadata": {},
   "outputs": [],
   "source": [
    "\n",
    "from pydub.silence import split_on_silence\n",
    "\n"
   ]
  },
  {
   "cell_type": "code",
   "execution_count": null,
   "metadata": {},
   "outputs": [],
   "source": [
    "\n",
    "# `min_silence_len` sets the minimum duration of silence to consider (in milliseconds)\n",
    "# `silence_thresh` sets the volume threshold below which audio is considered silence\n",
    "segments = split_on_silence(audio, min_silence_len=1000, silence_thresh=-39)  # Adjust as needed\n",
    "\n",
    "# Export each segment\n",
    "for i, segment in enumerate(segments):\n",
    "    output_file = f\"output_segment_{i}.mp3\"\n",
    "    segment.export(output_file, format=\"mp3\")\n",
    "\n",
    "print(f\"Audio splitting complete. {len(segments)} segments created.\")\n"
   ]
  },
  {
   "cell_type": "code",
   "execution_count": 66,
   "metadata": {},
   "outputs": [
    {
     "name": "stdout",
     "output_type": "stream",
     "text": [
      "First, second, and last segments combined and saved.\n"
     ]
    }
   ],
   "source": [
    "\n",
    "# Define the silence threshold and duration (adjust as needed)\n",
    "silence_thresh = -40  # Adjust as needed\n",
    "min_silence_len = 1000  # Adjust as needed\n",
    "\n",
    "# Split the audio on silence\n",
    "segments = split_on_silence(audio, min_silence_len=min_silence_len, silence_thresh=silence_thresh)\n",
    "\n",
    "\n",
    "# Check if there are segments\n",
    "if segments:\n",
    "    # Combine the first, second, and last segments\n",
    "    combined_segment = segments[0] + AudioSegment.silent(duration=1000) + segments[1] + AudioSegment.silent(duration=1000) + segments[-1]\n",
    "\n",
    "    # Create a filename that includes the silence threshold\n",
    "    output_filename = f\"combined_segments_silence_{silence_thresh}dB.mp3\"\n",
    "\n",
    "    # Export the combined segment with metadata\n",
    "    combined_segment.export(output_filename, format=\"mp3\", tags={'silence_threshold': f'{silence_thresh}dB'})\n",
    "\n",
    "    print(\"First, second, and last segments combined and saved.\")\n",
    "else:\n",
    "    print(\"No segments found in the audio.\")"
   ]
  },
  {
   "cell_type": "code",
   "execution_count": null,
   "metadata": {},
   "outputs": [],
   "source": []
  }
 ],
 "metadata": {
  "kernelspec": {
   "display_name": "Python 3",
   "language": "python",
   "name": "python3"
  },
  "language_info": {
   "codemirror_mode": {
    "name": "ipython",
    "version": 3
   },
   "file_extension": ".py",
   "mimetype": "text/x-python",
   "name": "python",
   "nbconvert_exporter": "python",
   "pygments_lexer": "ipython3",
   "version": "3.11.3"
  },
  "orig_nbformat": 4
 },
 "nbformat": 4,
 "nbformat_minor": 2
}
