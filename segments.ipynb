{
 "cells": [
  {
   "cell_type": "code",
   "execution_count": 2,
   "metadata": {},
   "outputs": [],
   "source": [
    "from pydub import AudioSegment\n",
    "from pydub.silence import split_on_silence"
   ]
  },
  {
   "cell_type": "code",
   "execution_count": 101,
   "metadata": {},
   "outputs": [],
   "source": [
    "# Now you can load the audio file\n",
    "audio = AudioSegment.from_file(\"Psalter/71. The Fearlessness of Faith.mp3\", format=\"mp3\")"
   ]
  },
  {
   "cell_type": "code",
   "execution_count": 102,
   "metadata": {},
   "outputs": [
    {
     "name": "stdout",
     "output_type": "stream",
     "text": [
      "6\n"
     ]
    }
   ],
   "source": [
    "# `min_silence_len` sets the minimum duration of silence to consider (in milliseconds)\n",
    "# `silence_thresh` sets the volume threshold below which audio is considered silence\n",
    "# Set parameters\n",
    "silence_thresh = -39  # Adjust this threshold as needed\n",
    "min_silence_duration = 1000  # Minimum silence duration in milliseconds\n",
    "min_segment_length = 500  # Minimum segment length in milliseconds\n",
    "\n",
    "# Split audio into segments based on silence\n",
    "segments = split_on_silence(\n",
    "    audio,\n",
    "    silence_thresh=silence_thresh,\n",
    "    min_silence_len=min_silence_duration,\n",
    "    keep_silence=min_segment_length\n",
    "    \n",
    ")  # Adjust as needed\n",
    "print(len(segments))"
   ]
  },
  {
   "cell_type": "code",
   "execution_count": 103,
   "metadata": {},
   "outputs": [
    {
     "name": "stdout",
     "output_type": "stream",
     "text": [
      "Audio splitting complete. 6 segments created.\n"
     ]
    }
   ],
   "source": [
    "# Export each segment\n",
    "for i, segment in enumerate(segments):\n",
    "    output_file = f\"soundclip/output_segment_{i}.mp3\"\n",
    "    segment = segment.fade_out(500)\n",
    "    segment.export(output_file, format=\"mp3\")\n",
    "\n",
    "print(f\"Audio splitting complete. {len(segments)} segments created.\")"
   ]
  },
  {
   "cell_type": "code",
   "execution_count": 104,
   "metadata": {},
   "outputs": [
    {
     "name": "stdout",
     "output_type": "stream",
     "text": [
      "Audio splitting complete. 90593 segments created.\n"
     ]
    }
   ],
   "source": [
    "# Export combined segments\n",
    "if segments:\n",
    "    output_file = f\"soundclip/combined_segments.mp3\"\n",
    "    segments[0] = segments[0].fade_out(200)\n",
    "    segments[1] = segments[1].fade_out(200)\n",
    "    segments[-1] = segments[-1].fade_out(200)\n",
    "    combined_segment = segments[0] + AudioSegment.silent(duration=700) + segments[1] + AudioSegment.silent(duration=700) + segments[1] + AudioSegment.silent(duration=1000) + segments[-1]\n",
    "\n",
    "    combined_segment.export(output_file, format=\"mp3\")\n",
    "\n",
    "\n",
    "print(f\"Audio splitting complete. {len(combined_segment)} segments created.\")"
   ]
  },
  {
   "cell_type": "code",
   "execution_count": 100,
   "metadata": {},
   "outputs": [
    {
     "name": "stdout",
     "output_type": "stream",
     "text": [
      "The duration of the first segment is 38.238 seconds.\n"
     ]
    }
   ],
   "source": [
    "\n",
    "# Calculate the duration of the first segment in seconds\n",
    "duration_seconds = len(segments[1]) / 1000  # Convert milliseconds to seconds\n",
    "\n",
    "print(f\"The duration of the first segment is {duration_seconds} seconds.\")\n"
   ]
  }
 ],
 "metadata": {
  "kernelspec": {
   "display_name": "Python 3",
   "language": "python",
   "name": "python3"
  },
  "language_info": {
   "codemirror_mode": {
    "name": "ipython",
    "version": 3
   },
   "file_extension": ".py",
   "mimetype": "text/x-python",
   "name": "python",
   "nbconvert_exporter": "python",
   "pygments_lexer": "ipython3",
   "version": "3.11.3"
  },
  "orig_nbformat": 4
 },
 "nbformat": 4,
 "nbformat_minor": 2
}
